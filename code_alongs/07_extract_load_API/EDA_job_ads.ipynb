{
 "cells": [
  {
   "cell_type": "markdown",
   "metadata": {},
   "source": [
    "# EDA on jobtech API \n",
    "\n",
    "- arbetsförmedlingen API"
   ]
  },
  {
   "cell_type": "code",
   "execution_count": 2,
   "metadata": {},
   "outputs": [
    {
     "name": "stdout",
     "output_type": "stream",
     "text": [
      "Lärare till resursenheten Pilskolan, Uppsala kommun\n",
      "Lärare i svenska och engelska till Palmbladsskolan, Uppsala kommun\n",
      "Lärare i svenska och SO till Björkvallsskolan (vikariat), Uppsala kommun\n",
      "Lärare i Svenska, STEAM Education holding AB\n",
      "Lärare i Svenska, STEAM Education holding AB\n",
      "Lärare i ryska till Försvarets tolkskola, Försvarsmakten\n",
      "Lärare i Idrott och hälsa, Statens Institutionsstyrelse\n",
      "Lärare fritidshem till Årstaskolan , Uppsala kommun\n",
      "Lärare i engelska, Lawrence Gelmon AB\n",
      "Lärare i Svenska, STEAM Education holding AB\n",
      "Lärare i Svenska, STEAM Education holding AB\n",
      "Lärare i Svenska, STEAM Education holding AB\n",
      "JENSEN grundskola Kåbo F-3 söker engagerad lärare i fritidshem, Jensen Education AB\n",
      "Lärare i årskurs 5 till Lindbackens skola, Uppsala kommun\n",
      "Förskolelärare/lärare till Östra Stenhagen anpassad grundskola, Uppsala kommun\n",
      "Lärare spanska, Raoul Wallenbergskolorna AB\n",
      "Jobba som lärare på Sveriges bästa och mest personliga bemanningsföretag!, PersonalExpressen AB\n",
      "Jobba som lärare på Sveriges bästa och mest personliga bemanningsföretag!, PersonalExpressen AB\n",
      "Jobba som lärare på Sveriges bästa och mest personliga bemanningsföretag!, PersonalExpressen AB\n",
      "Jobba som lärare på Sveriges bästa och mest personliga bemanningsföretag!, PersonalExpressen AB\n",
      "Förskollärare och lärare till olika skolformer, Clockwork Bemanning & Rekrytering AB\n",
      "Jobba som lärare på Sveriges bästa och mest personliga bemanningsföretag!, PersonalExpressen AB\n",
      "Jobba som lärare på Sveriges bästa och mest personliga bemanningsföretag!, PersonalExpressen AB\n",
      "Jobba som lärare på Sveriges bästa och mest personliga bemanningsföretag!, PersonalExpressen AB\n",
      "Jobba som lärare på Sveriges bästa och mest personliga bemanningsföretag!, PersonalExpressen AB\n",
      "Yrkesgymnasiet i Uppsala söker en frisörlärare, Thorengruppen AB\n",
      "Studie och yrkesvägledare till Yrkesgymnasiet, Thorengruppen AB\n",
      "\n",
      "Number of hits = 27\n"
     ]
    }
   ],
   "source": [
    "import requests\n",
    "import json\n",
    "\n",
    "url = 'https://jobsearch.api.jobtechdev.se'\n",
    "url_for_search = f\"{url}/search\"\n",
    "\n",
    "\n",
    "def _get_ads(params):\n",
    "    headers = {'accept': 'application/json'}\n",
    "    response = requests.get(url_for_search, headers=headers, params=params)\n",
    "    response.raise_for_status()  # check for http errors\n",
    "    return json.loads(response.content.decode('utf8'))\n",
    "\n",
    "\n",
    "def example_search_return_number_of_hits(query):\n",
    "    # limit: 0 means no ads, just a value of how many ads were found.\n",
    "    search_params = {'q': query, 'limit': 0}\n",
    "    json_response = _get_ads(search_params)\n",
    "    number_of_hits = json_response['total']['value']\n",
    "    print(f\"\\nNumber of hits = {number_of_hits}\")\n",
    "\n",
    "\n",
    "def example_search_loop_through_hits(query):\n",
    "    # limit = 100 is the max number of hits that can be returned.\n",
    "    # If there are more (which you find with ['total']['value'] in the json response)\n",
    "    # you have to use offset and multiple requests to get all ads.\n",
    "    search_params = {'q': query, 'limit': 100}\n",
    "    json_response = _get_ads(search_params)\n",
    "    hits = json_response['hits']\n",
    "    for hit in hits:\n",
    "        print(f\"{hit['headline']}, {hit['employer']['name']}\")\n",
    "\n",
    "\n",
    "if __name__ == '__main__':\n",
    "    query = 'lärare uppsala'\n",
    "    example_search_loop_through_hits(query)\n",
    "    example_search_return_number_of_hits(query)\n"
   ]
  },
  {
   "cell_type": "code",
   "execution_count": 4,
   "metadata": {},
   "outputs": [
    {
     "data": {
      "text/plain": [
       "dict_keys(['total', 'positions', 'query_time_in_millis', 'result_time_in_millis', 'stats', 'freetext_concepts', 'hits'])"
      ]
     },
     "execution_count": 4,
     "metadata": {},
     "output_type": "execute_result"
    }
   ],
   "source": [
    "query = 'lärare uppsala'\n",
    "params = {\"q\": query, \"limit\": 100}\n",
    "response = _get_ads(params)\n",
    "response.keys()"
   ]
  },
  {
   "cell_type": "code",
   "execution_count": 8,
   "metadata": {},
   "outputs": [
    {
     "data": {
      "text/plain": [
       "({'value': 27},\n",
       " 31,\n",
       " [],\n",
       " {'skill': [],\n",
       "  'occupation': ['lärare'],\n",
       "  'location': ['uppsala'],\n",
       "  'skill_must': [],\n",
       "  'occupation_must': [],\n",
       "  'location_must': [],\n",
       "  'skill_must_not': [],\n",
       "  'occupation_must_not': [],\n",
       "  'location_must_not': []})"
      ]
     },
     "execution_count": 8,
     "metadata": {},
     "output_type": "execute_result"
    }
   ],
   "source": [
    "response[\"total\"], response[\"positions\"], response[\"stats\"], response[\"freetext_concepts\"]"
   ]
  },
  {
   "cell_type": "code",
   "execution_count": 10,
   "metadata": {},
   "outputs": [
    {
     "data": {
      "text/plain": [
       "27"
      ]
     },
     "execution_count": 10,
     "metadata": {},
     "output_type": "execute_result"
    }
   ],
   "source": [
    "len(response[\"hits\"])"
   ]
  },
  {
   "cell_type": "code",
   "execution_count": 14,
   "metadata": {},
   "outputs": [
    {
     "name": "stdout",
     "output_type": "stream",
     "text": [
      "dict_keys(['relevance', 'id', 'external_id', 'original_id', 'label', 'webpage_url', 'logo_url', 'headline', 'application_deadline', 'number_of_vacancies', 'description', 'employment_type', 'salary_type', 'salary_description', 'duration', 'working_hours_type', 'scope_of_work', 'access', 'employer', 'application_details', 'experience_required', 'access_to_own_car', 'driving_license_required', 'driving_license', 'occupation', 'occupation_group', 'occupation_field', 'workplace_address', 'must_have', 'nice_to_have', 'application_contacts', 'publication_date', 'last_publication_date', 'removed', 'removed_date', 'source_type', 'timestamp'])\n"
     ]
    }
   ],
   "source": [
    "print(response[\"hits\"][0].keys())"
   ]
  },
  {
   "cell_type": "code",
   "execution_count": 17,
   "metadata": {},
   "outputs": [
    {
     "data": {
      "text/plain": [
       "('Lärare till resursenheten Pilskolan', 'Uppsala kommun')"
      ]
     },
     "execution_count": 17,
     "metadata": {},
     "output_type": "execute_result"
    }
   ],
   "source": [
    "response[\"hits\"][0][\"headline\"], response[\"hits\"][0][\"employer\"][\"name\"]"
   ]
  },
  {
   "cell_type": "code",
   "execution_count": 18,
   "metadata": {},
   "outputs": [
    {
     "data": {
      "text/plain": [
       "{'value': 67}"
      ]
     },
     "execution_count": 18,
     "metadata": {},
     "output_type": "execute_result"
    }
   ],
   "source": [
    "query = 'data engineer'\n",
    "params = {\"q\": query, \"limit\": 100}\n",
    "response = _get_ads(params)\n",
    "response[\"total\"]"
   ]
  },
  {
   "cell_type": "code",
   "execution_count": 22,
   "metadata": {},
   "outputs": [
    {
     "data": {
      "text/plain": [
       "'Data Engineer'"
      ]
     },
     "execution_count": 22,
     "metadata": {},
     "output_type": "execute_result"
    }
   ],
   "source": [
    "response[\"hits\"][0][\"headline\"]"
   ]
  },
  {
   "cell_type": "code",
   "execution_count": 23,
   "metadata": {},
   "outputs": [
    {
     "name": "stdout",
     "output_type": "stream",
     "text": [
      "We know it, you know it. Most companies ramble on about purpose and making the world a better place. And pretty often it feels a bit… well, forced. But we’d like to think that our story is special for real.\n",
      "Our founders, Shadi Bitar and Ninos Malki, came to Sweden from Syria when they were kids. Books became their compass, guiding them through the maze of life, and helping them shape their destinies in a new world.\n",
      "Their dream was bold: What if they could unlock the world of books for everyone, making knowledge and inspiration accessible to all? Fast forward a few years, and the tale of Nextory was born.\n",
      "At Nextory, we've crafted a revolutionary monthly subscription that empowers our users to devour books like never before, be it through reading or listening. It's not just a product; it's a passport to endless adventure and enlightenment.\n",
      "And now, we're on a quest to find a Data Engineer, someone as passionate as we are about making the world a happier place and enriching lives through the world of reading. Join our extraordinary team, and let's script a future where every day is a chapter of discovery, and every book is a key to a richer life.\n",
      "WHAT YOU WILL BE DOING\n",
      "As a Data Engineer at Nextory you will work with keeping and developing the data drivenness of Nextory throughout the organization. With a curious, innovative and analytical mindset and tech-savvy approach you will fuel our data-driven teams.\n",
      "Together with the team you will be responsible for data services which means, data warehousing, ML/AI, data quality and enabling data insights. You will build and run data pipelines, data warehouses, data frameworks and leverage ML/AI. We believe that you enjoy working autonomously in close collaboration with the cross-functional teams and other stakeholders.\n",
      "You will be a part of an amazing team and be at the core of understanding a consumer subscription service - always with the continuous aspiration to increase reading! The position is based in Stockholm and you report to our COO.\n",
      "\n",
      "\n",
      "Who are you…\n",
      "We believe that you are currently working in a similar role at a fast-moving company. We believe that you would like to develop a thorough understanding of how consumers use our service and be part of delivering key insights. By using various development techniques, you will keep us in the forefront of creating the best customer experience as well as providing a great self-service data platform. We believe that you take pride in structuring, integrating and transforming data on a daily basis - you believe that data quality is key!\n",
      "If you have ambitions (or experience!) of working with areas like ML and AI we would love to give you a platform to show your practice! You thrive working in a dynamic and unpretentious environment where you take great responsibility for our product and your team!\n",
      "\n",
      "\n",
      "SKILLS AND QUALIFICATIONS\n",
      "• We believe you have, for the field, relevant educational background\n",
      "• We believe you have around 4 years of experience from working within the field\n",
      "• We believe you have experience from working with event-driven architecture (Kafka streams or similar)\n",
      "• We believe that you are an expert in SQL and have worked with Java, Python and/or similar languages\n",
      "• We believe that you have experience with cloud infrastructure (Azure, AWS, GCP) and cloud data warehousing, preferably BigQuery or equivalent\n",
      "• We believe that you have experience working with pipelines and data integration solutions with an ELT approach\n",
      "• We believe that you have experience in operating, maintaining and ensuring quality of production grade software\n",
      "We are looking forward to your application which should include a CV or LinkedIn profile.\n"
     ]
    }
   ],
   "source": [
    "print(response[\"hits\"][0][\"description\"][\"text\"])"
   ]
  },
  {
   "cell_type": "code",
   "execution_count": 24,
   "metadata": {},
   "outputs": [
    {
     "data": {
      "text/plain": [
       "{'value': 255}"
      ]
     },
     "execution_count": 24,
     "metadata": {},
     "output_type": "execute_result"
    }
   ],
   "source": [
    "query = 'data science'\n",
    "params = {\"q\": query, \"limit\": 100}\n",
    "response = _get_ads(params)\n",
    "response[\"total\"]"
   ]
  },
  {
   "cell_type": "markdown",
   "metadata": {},
   "source": []
  }
 ],
 "metadata": {
  "kernelspec": {
   "display_name": ".venv",
   "language": "python",
   "name": "python3"
  },
  "language_info": {
   "codemirror_mode": {
    "name": "ipython",
    "version": 3
   },
   "file_extension": ".py",
   "mimetype": "text/x-python",
   "name": "python",
   "nbconvert_exporter": "python",
   "pygments_lexer": "ipython3",
   "version": "3.11.8"
  }
 },
 "nbformat": 4,
 "nbformat_minor": 2
}
